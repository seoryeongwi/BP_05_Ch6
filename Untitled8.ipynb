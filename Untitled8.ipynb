{
  "nbformat": 4,
  "nbformat_minor": 0,
  "metadata": {
    "colab": {
      "provenance": [],
      "authorship_tag": "ABX9TyO8HCKQ335ziX64phBlDNhS",
      "include_colab_link": true
    },
    "kernelspec": {
      "name": "python3",
      "display_name": "Python 3"
    },
    "language_info": {
      "name": "python"
    }
  },
  "cells": [
    {
      "cell_type": "markdown",
      "metadata": {
        "id": "view-in-github",
        "colab_type": "text"
      },
      "source": [
        "<a href=\"https://colab.research.google.com/github/seoryeongwi/BP_05_Ch6/blob/main/Untitled8.ipynb\" target=\"_parent\"><img src=\"https://colab.research.google.com/assets/colab-badge.svg\" alt=\"Open In Colab\"/></a>"
      ]
    },
    {
      "cell_type": "code",
      "execution_count": null,
      "metadata": {
        "id": "2ngZQB3bmKgd"
      },
      "outputs": [],
      "source": []
    },
    {
      "cell_type": "markdown",
      "source": [
        "1. 2부터 100 사이의 모든 짝수를 출력하는 반복 루프를 작성한다."
      ],
      "metadata": {
        "id": "pfvceCHZtfRI"
      }
    },
    {
      "cell_type": "code",
      "source": [
        "for i in range (2,101):\n",
        "      if i%2 == 0:\n",
        "         print(i,end = \"\")"
      ],
      "metadata": {
        "colab": {
          "base_uri": "https://localhost:8080/"
        },
        "id": "UIFKmYpjts-w",
        "outputId": "8eb67ec2-60a9-4534-ba31-d7d4965ad64e"
      },
      "execution_count": 1,
      "outputs": [
        {
          "output_type": "stream",
          "name": "stdout",
          "text": [
            "2468101214161820222426283032343638404244464850525456586062646668707274767880828486889092949698100"
          ]
        }
      ]
    },
    {
      "cell_type": "markdown",
      "source": [
        "2. 어떤 사람이 복리이자율 7%로 1000만원을 저금했을 경우에 2000만원이 되는데 몇 년이 걸리는지 계산하기 위하여 다음과 코드를 작성하였다. 잘못된 점은 없는지 체크해보자."
      ],
      "metadata": {
        "id": "S_rwFo2ht_CJ"
      }
    },
    {
      "cell_type": "code",
      "source": [
        "year = 0\n",
        "balance = 1000\n",
        "\n",
        "while balance >= 2000 :\n",
        "    year = year + 1\n",
        "    interest = balance * 0.07\n",
        "    balance = balance + interest\n",
        "print(year, \"년이 걸립니다.\")    "
      ],
      "metadata": {
        "colab": {
          "base_uri": "https://localhost:8080/"
        },
        "id": "wI8n-GkjuNMf",
        "outputId": "53e6726f-2553-4c50-8e18-aafe19b39522"
      },
      "execution_count": 2,
      "outputs": [
        {
          "output_type": "stream",
          "name": "stdout",
          "text": [
            "0 년이 걸립니다.\n"
          ]
        }
      ]
    },
    {
      "cell_type": "markdown",
      "source": [
        "3. 다음 코드의 출력을 예상해보자. 각 단계에서 변수의 값을 예상해보시오."
      ],
      "metadata": {
        "id": "t2TLZ32Cu-S6"
      }
    },
    {
      "cell_type": "code",
      "source": [
        "n = 1234\n",
        "sum = 0\n",
        "while n > 0 :\n",
        "   digit = n %10\n",
        "   sum = sum + digit\n",
        "   n = n // 10\n",
        "print(sum)   \n"
      ],
      "metadata": {
        "colab": {
          "base_uri": "https://localhost:8080/"
        },
        "id": "voxX5SCVvEFb",
        "outputId": "aa59acf7-33de-4033-a346-6aa82b9050e1"
      },
      "execution_count": 3,
      "outputs": [
        {
          "output_type": "stream",
          "name": "stdout",
          "text": [
            "10\n"
          ]
        }
      ]
    },
    {
      "cell_type": "markdown",
      "source": [
        "4. 사용자에게 곱셈 퀴즈를 내고 답을 사용자로부터 받는 프로그램에 사용자가 올바른 답을 입력할 때까지 반복하도록 수정하여보자."
      ],
      "metadata": {
        "id": "TBIfBQ1YvUbJ"
      }
    },
    {
      "cell_type": "code",
      "source": [
        "ans = 0\n",
        "while ans != 3*9:\n",
        "    ans = int(input(\"3*9는\"))\n",
        "print(\"맞았습니다. \")    "
      ],
      "metadata": {
        "colab": {
          "base_uri": "https://localhost:8080/"
        },
        "id": "q5X8Z5dyvl5k",
        "outputId": "75aff4a2-4a41-4783-8d58-e33fe718e0a3"
      },
      "execution_count": 4,
      "outputs": [
        {
          "output_type": "stream",
          "name": "stdout",
          "text": [
            "3*9는8\n",
            "3*9는9\n",
            "3*9는27\n",
            "맞았습니다. \n"
          ]
        }
      ]
    },
    {
      "cell_type": "markdown",
      "source": [
        "5. 사용자가 입력한 정수의 합을 계산하는 프로그램을 작성하자. 사용자가0을 입력하기 전까지 정수를 계속하여 읽도록 한다."
      ],
      "metadata": {
        "id": "4S25fSI8wHCm"
      }
    },
    {
      "cell_type": "code",
      "source": [
        "sum = 0\n",
        "while True:\n",
        "    x = int(input(\"정수를 입력하시오:\"))\n",
        "    if x == 0:\n",
        "        break;\n",
        "    sum = sum + x \n",
        "\n",
        "print(\"합은\",sum, \"입니다.\")       "
      ],
      "metadata": {
        "colab": {
          "base_uri": "https://localhost:8080/"
        },
        "id": "bEeGXh-KwQXV",
        "outputId": "b53b98e9-757b-459c-95a2-b21c52efea2f"
      },
      "execution_count": 7,
      "outputs": [
        {
          "output_type": "stream",
          "name": "stdout",
          "text": [
            "정수를 입력하시오:1\n",
            "정수를 입력하시오:2\n",
            "정수를 입력하시오:3\n",
            "정수를 입력하시오:0\n",
            "합은 6 입니다.\n"
          ]
        }
      ]
    }
  ]
}